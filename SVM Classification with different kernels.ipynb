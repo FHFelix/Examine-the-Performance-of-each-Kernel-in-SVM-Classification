{
 "cells": [
  {
   "cell_type": "markdown",
   "id": "206097eb-df4f-489c-b869-c65fdc251fb2",
   "metadata": {},
   "source": [
    "# In this practice I will examine the Performance of each Kernel in SVM"
   ]
  },
  {
   "cell_type": "code",
   "execution_count": 1,
   "id": "e3f10ca8-651f-4fe4-a305-ca4b4abd1031",
   "metadata": {},
   "outputs": [],
   "source": [
    "import pandas as pd\n",
    "import numpy as np\n",
    "from sklearn.svm import SVC\n",
    "from sklearn.model_selection import train_test_split\n",
    "from sklearn.metrics import classification_report, confusion_matrix"
   ]
  },
  {
   "cell_type": "code",
   "execution_count": 2,
   "id": "4ff42468-43bf-45fd-a82b-b42eaa8b2601",
   "metadata": {},
   "outputs": [
    {
     "data": {
      "text/html": [
       "<div>\n",
       "<style scoped>\n",
       "    .dataframe tbody tr th:only-of-type {\n",
       "        vertical-align: middle;\n",
       "    }\n",
       "\n",
       "    .dataframe tbody tr th {\n",
       "        vertical-align: top;\n",
       "    }\n",
       "\n",
       "    .dataframe thead th {\n",
       "        text-align: right;\n",
       "    }\n",
       "</style>\n",
       "<table border=\"1\" class=\"dataframe\">\n",
       "  <thead>\n",
       "    <tr style=\"text-align: right;\">\n",
       "      <th></th>\n",
       "      <th>Variance</th>\n",
       "      <th>Skewness</th>\n",
       "      <th>Curtosis</th>\n",
       "      <th>Entropy</th>\n",
       "      <th>Class</th>\n",
       "    </tr>\n",
       "  </thead>\n",
       "  <tbody>\n",
       "    <tr>\n",
       "      <th>0</th>\n",
       "      <td>3.62160</td>\n",
       "      <td>8.6661</td>\n",
       "      <td>-2.8073</td>\n",
       "      <td>-0.44699</td>\n",
       "      <td>0</td>\n",
       "    </tr>\n",
       "    <tr>\n",
       "      <th>1</th>\n",
       "      <td>4.54590</td>\n",
       "      <td>8.1674</td>\n",
       "      <td>-2.4586</td>\n",
       "      <td>-1.46210</td>\n",
       "      <td>0</td>\n",
       "    </tr>\n",
       "    <tr>\n",
       "      <th>2</th>\n",
       "      <td>3.86600</td>\n",
       "      <td>-2.6383</td>\n",
       "      <td>1.9242</td>\n",
       "      <td>0.10645</td>\n",
       "      <td>0</td>\n",
       "    </tr>\n",
       "    <tr>\n",
       "      <th>3</th>\n",
       "      <td>3.45660</td>\n",
       "      <td>9.5228</td>\n",
       "      <td>-4.0112</td>\n",
       "      <td>-3.59440</td>\n",
       "      <td>0</td>\n",
       "    </tr>\n",
       "    <tr>\n",
       "      <th>4</th>\n",
       "      <td>0.32924</td>\n",
       "      <td>-4.4552</td>\n",
       "      <td>4.5718</td>\n",
       "      <td>-0.98880</td>\n",
       "      <td>0</td>\n",
       "    </tr>\n",
       "  </tbody>\n",
       "</table>\n",
       "</div>"
      ],
      "text/plain": [
       "   Variance  Skewness  Curtosis  Entropy  Class\n",
       "0   3.62160    8.6661   -2.8073 -0.44699      0\n",
       "1   4.54590    8.1674   -2.4586 -1.46210      0\n",
       "2   3.86600   -2.6383    1.9242  0.10645      0\n",
       "3   3.45660    9.5228   -4.0112 -3.59440      0\n",
       "4   0.32924   -4.4552    4.5718 -0.98880      0"
      ]
     },
     "execution_count": 2,
     "metadata": {},
     "output_type": "execute_result"
    }
   ],
   "source": [
    "bank_data = pd.read_csv('/Users/haitonghuang/Downloads/datasets/bill_authentication.csv')\n",
    "bank_data.head()"
   ]
  },
  {
   "cell_type": "code",
   "execution_count": 3,
   "id": "4e034199-d527-4a68-84d1-848a735d5c71",
   "metadata": {},
   "outputs": [
    {
     "data": {
      "text/plain": [
       "0    762\n",
       "1    610\n",
       "Name: Class, dtype: int64"
      ]
     },
     "execution_count": 3,
     "metadata": {},
     "output_type": "execute_result"
    }
   ],
   "source": [
    "bank_data.Class.value_counts()"
   ]
  },
  {
   "cell_type": "code",
   "execution_count": 4,
   "id": "4c86f1ff-5be6-4b3f-b469-76cf026470f1",
   "metadata": {},
   "outputs": [
    {
     "data": {
      "text/plain": [
       "Variance    0\n",
       "Skewness    0\n",
       "Curtosis    0\n",
       "Entropy     0\n",
       "Class       0\n",
       "dtype: int64"
      ]
     },
     "execution_count": 4,
     "metadata": {},
     "output_type": "execute_result"
    }
   ],
   "source": [
    "bank_data.isnull().sum()"
   ]
  },
  {
   "cell_type": "code",
   "execution_count": 5,
   "id": "29f09ae8-1b2d-4668-a27f-12a374d5c5c4",
   "metadata": {},
   "outputs": [],
   "source": [
    "from sklearn.preprocessing import StandardScaler\n",
    "scaler = StandardScaler()\n",
    "bank_data[['Variance','Skewness','Curtosis','Entropy']] = scaler.fit_transform(bank_data[['Variance','Skewness','Curtosis','Entropy']])"
   ]
  },
  {
   "cell_type": "code",
   "execution_count": 6,
   "id": "1aa00de3-1df2-417a-a367-f567bdfc15f6",
   "metadata": {},
   "outputs": [
    {
     "data": {
      "text/html": [
       "<div>\n",
       "<style scoped>\n",
       "    .dataframe tbody tr th:only-of-type {\n",
       "        vertical-align: middle;\n",
       "    }\n",
       "\n",
       "    .dataframe tbody tr th {\n",
       "        vertical-align: top;\n",
       "    }\n",
       "\n",
       "    .dataframe thead th {\n",
       "        text-align: right;\n",
       "    }\n",
       "</style>\n",
       "<table border=\"1\" class=\"dataframe\">\n",
       "  <thead>\n",
       "    <tr style=\"text-align: right;\">\n",
       "      <th></th>\n",
       "      <th>Variance</th>\n",
       "      <th>Skewness</th>\n",
       "      <th>Curtosis</th>\n",
       "      <th>Entropy</th>\n",
       "      <th>Class</th>\n",
       "    </tr>\n",
       "  </thead>\n",
       "  <tbody>\n",
       "    <tr>\n",
       "      <th>0</th>\n",
       "      <td>1.121806</td>\n",
       "      <td>1.149455</td>\n",
       "      <td>-0.975970</td>\n",
       "      <td>0.354561</td>\n",
       "      <td>0</td>\n",
       "    </tr>\n",
       "    <tr>\n",
       "      <th>1</th>\n",
       "      <td>1.447066</td>\n",
       "      <td>1.064453</td>\n",
       "      <td>-0.895036</td>\n",
       "      <td>-0.128767</td>\n",
       "      <td>0</td>\n",
       "    </tr>\n",
       "    <tr>\n",
       "      <th>2</th>\n",
       "      <td>1.207810</td>\n",
       "      <td>-0.777352</td>\n",
       "      <td>0.122218</td>\n",
       "      <td>0.618073</td>\n",
       "      <td>0</td>\n",
       "    </tr>\n",
       "    <tr>\n",
       "      <th>3</th>\n",
       "      <td>1.063742</td>\n",
       "      <td>1.295478</td>\n",
       "      <td>-1.255397</td>\n",
       "      <td>-1.144029</td>\n",
       "      <td>0</td>\n",
       "    </tr>\n",
       "    <tr>\n",
       "      <th>4</th>\n",
       "      <td>-0.036772</td>\n",
       "      <td>-1.087038</td>\n",
       "      <td>0.736730</td>\n",
       "      <td>0.096587</td>\n",
       "      <td>0</td>\n",
       "    </tr>\n",
       "    <tr>\n",
       "      <th>...</th>\n",
       "      <td>...</td>\n",
       "      <td>...</td>\n",
       "      <td>...</td>\n",
       "      <td>...</td>\n",
       "      <td>...</td>\n",
       "    </tr>\n",
       "    <tr>\n",
       "      <th>1367</th>\n",
       "      <td>-0.009711</td>\n",
       "      <td>-0.097693</td>\n",
       "      <td>-0.660962</td>\n",
       "      <td>0.300996</td>\n",
       "      <td>1</td>\n",
       "    </tr>\n",
       "    <tr>\n",
       "      <th>1368</th>\n",
       "      <td>-0.641313</td>\n",
       "      <td>-1.158984</td>\n",
       "      <td>1.179023</td>\n",
       "      <td>0.730127</td>\n",
       "      <td>1</td>\n",
       "    </tr>\n",
       "    <tr>\n",
       "      <th>1369</th>\n",
       "      <td>-1.472357</td>\n",
       "      <td>-2.621646</td>\n",
       "      <td>3.759017</td>\n",
       "      <td>-0.754884</td>\n",
       "      <td>1</td>\n",
       "    </tr>\n",
       "    <tr>\n",
       "      <th>1370</th>\n",
       "      <td>-1.406693</td>\n",
       "      <td>-1.756471</td>\n",
       "      <td>2.552043</td>\n",
       "      <td>-0.043158</td>\n",
       "      <td>1</td>\n",
       "    </tr>\n",
       "    <tr>\n",
       "      <th>1371</th>\n",
       "      <td>-1.047122</td>\n",
       "      <td>-0.439822</td>\n",
       "      <td>0.298616</td>\n",
       "      <td>1.136464</td>\n",
       "      <td>1</td>\n",
       "    </tr>\n",
       "  </tbody>\n",
       "</table>\n",
       "<p>1372 rows × 5 columns</p>\n",
       "</div>"
      ],
      "text/plain": [
       "      Variance  Skewness  Curtosis   Entropy  Class\n",
       "0     1.121806  1.149455 -0.975970  0.354561      0\n",
       "1     1.447066  1.064453 -0.895036 -0.128767      0\n",
       "2     1.207810 -0.777352  0.122218  0.618073      0\n",
       "3     1.063742  1.295478 -1.255397 -1.144029      0\n",
       "4    -0.036772 -1.087038  0.736730  0.096587      0\n",
       "...        ...       ...       ...       ...    ...\n",
       "1367 -0.009711 -0.097693 -0.660962  0.300996      1\n",
       "1368 -0.641313 -1.158984  1.179023  0.730127      1\n",
       "1369 -1.472357 -2.621646  3.759017 -0.754884      1\n",
       "1370 -1.406693 -1.756471  2.552043 -0.043158      1\n",
       "1371 -1.047122 -0.439822  0.298616  1.136464      1\n",
       "\n",
       "[1372 rows x 5 columns]"
      ]
     },
     "execution_count": 6,
     "metadata": {},
     "output_type": "execute_result"
    }
   ],
   "source": [
    "bank_data"
   ]
  },
  {
   "cell_type": "code",
   "execution_count": 7,
   "id": "fd62e901-7803-4fb1-95da-49c7f32ce757",
   "metadata": {},
   "outputs": [],
   "source": [
    "x = bank_data.drop(columns = 'Class')\n",
    "y = bank_data['Class']"
   ]
  },
  {
   "cell_type": "code",
   "execution_count": 8,
   "id": "2670ca1f-fd99-4161-bcb9-a1b3854a9eba",
   "metadata": {},
   "outputs": [
    {
     "name": "stdout",
     "output_type": "stream",
     "text": [
      "      Variance  Skewness  Curtosis   Entropy\n",
      "0     1.121806  1.149455 -0.975970  0.354561\n",
      "1     1.447066  1.064453 -0.895036 -0.128767\n",
      "2     1.207810 -0.777352  0.122218  0.618073\n",
      "3     1.063742  1.295478 -1.255397 -1.144029\n",
      "4    -0.036772 -1.087038  0.736730  0.096587\n",
      "...        ...       ...       ...       ...\n",
      "1367 -0.009711 -0.097693 -0.660962  0.300996\n",
      "1368 -0.641313 -1.158984  1.179023  0.730127\n",
      "1369 -1.472357 -2.621646  3.759017 -0.754884\n",
      "1370 -1.406693 -1.756471  2.552043 -0.043158\n",
      "1371 -1.047122 -0.439822  0.298616  1.136464\n",
      "\n",
      "[1372 rows x 4 columns] 0       0\n",
      "1       0\n",
      "2       0\n",
      "3       0\n",
      "4       0\n",
      "       ..\n",
      "1367    1\n",
      "1368    1\n",
      "1369    1\n",
      "1370    1\n",
      "1371    1\n",
      "Name: Class, Length: 1372, dtype: int64\n"
     ]
    }
   ],
   "source": [
    "print(x,y)"
   ]
  },
  {
   "cell_type": "code",
   "execution_count": 11,
   "id": "7445e7b4-8494-4b45-b569-79c757240dd0",
   "metadata": {},
   "outputs": [],
   "source": [
    "x_train, x_test, y_train, y_test = train_test_split(x, y, test_size = 0.3, random_state = 2)"
   ]
  },
  {
   "cell_type": "code",
   "execution_count": 14,
   "id": "81703270-1cb3-4800-846d-05b6d037039e",
   "metadata": {},
   "outputs": [
    {
     "data": {
      "text/plain": [
       "SVC(kernel='linear')"
      ]
     },
     "execution_count": 14,
     "metadata": {},
     "output_type": "execute_result"
    }
   ],
   "source": [
    "#kernel = Linear Kernel\n",
    "svclassifier = SVC(kernel='linear')\n",
    "svclassifier.fit(x_train, y_train)"
   ]
  },
  {
   "cell_type": "code",
   "execution_count": 15,
   "id": "d52e0229-df54-4d8a-9d0c-63b5990c3c44",
   "metadata": {},
   "outputs": [],
   "source": [
    "y_pred = svclassifier.predict(x_test)"
   ]
  },
  {
   "cell_type": "code",
   "execution_count": 16,
   "id": "88e80fdd-2809-4616-920b-67cce07bd597",
   "metadata": {},
   "outputs": [
    {
     "name": "stdout",
     "output_type": "stream",
     "text": [
      "[[208   9]\n",
      " [  0 195]]\n",
      "              precision    recall  f1-score   support\n",
      "\n",
      "           0       1.00      0.96      0.98       217\n",
      "           1       0.96      1.00      0.98       195\n",
      "\n",
      "    accuracy                           0.98       412\n",
      "   macro avg       0.98      0.98      0.98       412\n",
      "weighted avg       0.98      0.98      0.98       412\n",
      "\n"
     ]
    }
   ],
   "source": [
    "print(confusion_matrix(y_test,y_pred))\n",
    "print(classification_report(y_test,y_pred))"
   ]
  },
  {
   "cell_type": "markdown",
   "id": "df56ef9c-2ea6-4086-8f65-983f0ddd17df",
   "metadata": {},
   "source": [
    "### we are getting 98% accuracy on this model using linear kernel which is very good, but now I will try using a different kernel and let's see if the accuracy will change."
   ]
  },
  {
   "cell_type": "code",
   "execution_count": 18,
   "id": "9d1c60f6-1023-439d-b62f-4c5d685475ce",
   "metadata": {},
   "outputs": [
    {
     "data": {
      "text/plain": [
       "SVC(degree=5, kernel='poly')"
      ]
     },
     "execution_count": 18,
     "metadata": {},
     "output_type": "execute_result"
    }
   ],
   "source": [
    "#kernel = Polynomial Kernel\n",
    "from sklearn.svm import SVC\n",
    "svclassifier_poly = SVC(kernel='poly', degree=5)\n",
    "svclassifier_poly.fit(x_train, y_train)"
   ]
  },
  {
   "cell_type": "code",
   "execution_count": 19,
   "id": "54ecd055-50ed-4d1a-afdc-6dbdad683bdb",
   "metadata": {},
   "outputs": [],
   "source": [
    "y_pred_poly = svclassifier_poly.predict(x_test)"
   ]
  },
  {
   "cell_type": "code",
   "execution_count": 20,
   "id": "0ca5618b-4f52-456f-bb73-e299d050719a",
   "metadata": {},
   "outputs": [
    {
     "name": "stdout",
     "output_type": "stream",
     "text": [
      "[[208   9]\n",
      " [  0 195]]\n",
      "              precision    recall  f1-score   support\n",
      "\n",
      "           0       0.79      1.00      0.88       217\n",
      "           1       1.00      0.71      0.83       195\n",
      "\n",
      "    accuracy                           0.86       412\n",
      "   macro avg       0.90      0.85      0.86       412\n",
      "weighted avg       0.89      0.86      0.86       412\n",
      "\n"
     ]
    }
   ],
   "source": [
    "print(confusion_matrix(y_test,y_pred))\n",
    "print(classification_report(y_test,y_pred_poly))"
   ]
  },
  {
   "cell_type": "code",
   "execution_count": 21,
   "id": "2d4c4550-6574-4637-8356-5601e74baeb7",
   "metadata": {},
   "outputs": [
    {
     "data": {
      "text/plain": [
       "SVC()"
      ]
     },
     "execution_count": 21,
     "metadata": {},
     "output_type": "execute_result"
    }
   ],
   "source": [
    "# Gaussian Kernel\n",
    "svclassifier_rbf = SVC(kernel='rbf')\n",
    "svclassifier_rbf.fit(x_train, y_train)"
   ]
  },
  {
   "cell_type": "code",
   "execution_count": 22,
   "id": "4f2797a6-2f88-4adc-ba7b-186393947bb6",
   "metadata": {},
   "outputs": [],
   "source": [
    "y_pred_rbf = svclassifier_rbf.predict(x_test)"
   ]
  },
  {
   "cell_type": "code",
   "execution_count": 23,
   "id": "094d94eb-19f1-42f1-be3c-29311f091cf3",
   "metadata": {},
   "outputs": [
    {
     "name": "stdout",
     "output_type": "stream",
     "text": [
      "[[208   9]\n",
      " [  0 195]]\n",
      "              precision    recall  f1-score   support\n",
      "\n",
      "           0       1.00      1.00      1.00       217\n",
      "           1       1.00      1.00      1.00       195\n",
      "\n",
      "    accuracy                           1.00       412\n",
      "   macro avg       1.00      1.00      1.00       412\n",
      "weighted avg       1.00      1.00      1.00       412\n",
      "\n"
     ]
    }
   ],
   "source": [
    "print(confusion_matrix(y_test,y_pred))\n",
    "print(classification_report(y_test,y_pred_rbf))"
   ]
  },
  {
   "cell_type": "code",
   "execution_count": 25,
   "id": "794cc0d4-d9ff-4bb8-92df-ddf29a3db65f",
   "metadata": {},
   "outputs": [],
   "source": [
    "# Sigmoid Kernel\n",
    "svclassifier_sig = SVC(kernel='sigmoid')\n",
    "svclassifier_sig.fit(x_train, y_train)\n",
    "y_pred_sig = svclassifier_sig.predict(x_test)"
   ]
  },
  {
   "cell_type": "code",
   "execution_count": 26,
   "id": "2889248a-e82f-4f9b-9b3d-b522436f5941",
   "metadata": {},
   "outputs": [
    {
     "name": "stdout",
     "output_type": "stream",
     "text": [
      "[[208   9]\n",
      " [  0 195]]\n",
      "              precision    recall  f1-score   support\n",
      "\n",
      "           0       0.79      0.75      0.77       217\n",
      "           1       0.73      0.78      0.76       195\n",
      "\n",
      "    accuracy                           0.76       412\n",
      "   macro avg       0.76      0.76      0.76       412\n",
      "weighted avg       0.76      0.76      0.76       412\n",
      "\n"
     ]
    }
   ],
   "source": [
    "print(confusion_matrix(y_test,y_pred))\n",
    "print(classification_report(y_test,y_pred_sig))"
   ]
  },
  {
   "cell_type": "markdown",
   "id": "62f24071-3764-4a9b-87d9-2ae3c72e5d72",
   "metadata": {},
   "source": [
    "## Comparison of Kernel Performance\n",
    "### If we compare the performance of the different types of kernels we can clearly see that the sigmoid kernel performs the worst. This is due to the reason that sigmoid function returns two values, 0 and 1, it is more suitable for binary classification problems.\n",
    "### Linear Kernel can perform very good with linear data. \n",
    "### Also we can see that Gaussian kernel achieved a perfect 100% prediction rate. Gaussian kernel is usually chosen for non-linear data since it's infinit demension characteristic and it is one of the most preferred and used kernel functions in svm\n",
    "\n"
   ]
  },
  {
   "cell_type": "code",
   "execution_count": null,
   "id": "4f3d6d38-925e-4300-afe6-118faaf03c63",
   "metadata": {},
   "outputs": [],
   "source": []
  }
 ],
 "metadata": {
  "kernelspec": {
   "display_name": "Python 3 (ipykernel)",
   "language": "python",
   "name": "python3"
  },
  "language_info": {
   "codemirror_mode": {
    "name": "ipython",
    "version": 3
   },
   "file_extension": ".py",
   "mimetype": "text/x-python",
   "name": "python",
   "nbconvert_exporter": "python",
   "pygments_lexer": "ipython3",
   "version": "3.9.7"
  }
 },
 "nbformat": 4,
 "nbformat_minor": 5
}
